{
 "cells": [
  {
   "cell_type": "code",
   "execution_count": 1,
   "metadata": {},
   "outputs": [],
   "source": [
    "from extract_data import extract_data\n",
    "import pandas as pd\n",
    "import numpy as np\n",
    "from scipy import optimize\n",
    "from scipy.optimize import linear_sum_assignment\n",
    "from genSankey import genSankey\n",
    "import chart_studio.plotly as py\n",
    "import plotly\n",
    "\n",
    "import plotly.graph_objs as go\n",
    "\n",
    "from random import seed\n",
    "from random import randint"
   ]
  },
  {
   "cell_type": "code",
   "execution_count": 2,
   "metadata": {},
   "outputs": [],
   "source": [
    "#importing cleaned data\n",
    "data = extract_data(\"data\",\"data\",1)"
   ]
  },
  {
   "cell_type": "code",
   "execution_count": 3,
   "metadata": {},
   "outputs": [],
   "source": [
    "#removing don't know's and no votes from the labels, label choice is who people voted in the general election\n",
    "data['generalElectionVote'] = data['generalElectionVote'].fillna(\"Don't know\") \n",
    "\n",
    "list_to_remove = []\n",
    "for i in range(data.shape[0]):\n",
    "    if data.loc[i,'generalElectionVote'] == \"Don't know\":\n",
    "        list_to_remove.append(i)\n",
    "    elif data.loc[i,'generalElectionVote'] == \"No - none\":\n",
    "        list_to_remove.append(i)\n",
    "    elif data.loc[i,'generalElectionVote'] == \"Plaid Cymru\":\n",
    "        list_to_remove.append(i)\n",
    "    elif data.loc[i,'generalElectionVote'] == \"Scottish National Party (SNP)\":\n",
    "        list_to_remove.append(i)\n",
    "    \n",
    "data = data.drop(list_to_remove)\n",
    "data = data.reset_index(drop=True)\n",
    "\n"
   ]
  },
  {
   "cell_type": "code",
   "execution_count": 4,
   "metadata": {},
   "outputs": [],
   "source": [
    "#importing k-modes required packages\n",
    "from kmodes.kmodes import KModes, labels_cost\n",
    "from sklearn.utils import check_random_state\n",
    "from sklearn.utils.validation import check_array\n",
    "from collections import defaultdict\n",
    "from kmodes.util.dissim import matching_dissim, ng_dissim\n",
    "from kmodes.util.__init__ import  pandas_to_numpy, encode_features"
   ]
  },
  {
   "cell_type": "code",
   "execution_count": 5,
   "metadata": {},
   "outputs": [],
   "source": [
    "#function to find the cost matrix of the cluster assignments\n",
    "def cost_matrices(X, centroids, dissim, membship=None):\n",
    "   \n",
    "    X = check_array(X)\n",
    "    n_centroids = centroids.shape[0]\n",
    "    n_points = X.shape[0]\n",
    "    cost = np.empty(shape=[n_points,n_centroids], dtype=np.uint16)\n",
    "    labels = np.empty(n_points, dtype=np.uint16)\n",
    "    for ipoint, curpoint in enumerate(X):\n",
    "        diss = dissim(centroids, curpoint, X=X, membship=membship)\n",
    "        cost[ipoint,:]=diss\n",
    "        clust = np.argmin(diss)\n",
    "        labels[ipoint] = clust\n",
    "    \n",
    "\n",
    "    return cost"
   ]
  },
  {
   "cell_type": "code",
   "execution_count": 6,
   "metadata": {},
   "outputs": [],
   "source": [
    "#converting data to matrices and dropping certain features including the labels\n",
    "k_modes_data = data.drop(['generalElectionVote','enviroGrowth','immigCultural','immigSelf','immigEcon','EUIntegrationSelf','happyEULeave'],axis=1)\n",
    "k_modes_data_matrix = k_modes_data.to_numpy()\n"
   ]
  },
  {
   "cell_type": "code",
   "execution_count": 73,
   "metadata": {},
   "outputs": [
    {
     "data": {
      "text/plain": [
       "array([2, 3, 0, ..., 1, 3, 9], dtype=uint16)"
      ]
     },
     "execution_count": 73,
     "metadata": {},
     "output_type": "execute_result"
    }
   ],
   "source": [
    "n_clusters = 6\n",
    "kmodes = KModes(n_jobs = -1, n_clusters = 6, init = 'Huang', random_state = 0)\n",
    "kmodes.fit_predict(k_modes_data_matrix)"
   ]
  },
  {
   "cell_type": "code",
   "execution_count": 108,
   "metadata": {},
   "outputs": [
    {
     "name": "stdout",
     "output_type": "stream",
     "text": [
      "0.5295544171178856\n"
     ]
    }
   ],
   "source": [
    "\n",
    "def purity_check(labels,data):\n",
    "    purity_check = pd.DataFrame({'Cluster Labels' : labels})\n",
    "    purity_check['Vote'] = data['generalElectionVote']\n",
    "    cluster_purity_list=[]\n",
    "    for cluster in range(n_clusters):\n",
    "    \n",
    "        vote_list = []\n",
    "        for x in range(purity_check.shape[0]):\n",
    "            if purity_check.loc[x,'Cluster Labels'] == cluster:\n",
    "                vote_list.append(data.loc[x,'generalElectionVote'])\n",
    "        vote_list_data_frame = pd.DataFrame({'Assignment':vote_list})\n",
    "        cluster_purity_list.append(max(vote_list_data_frame['Assignment'].value_counts(normalize=True)))\n",
    "\n",
    "    mean_purity = np.mean(cluster_purity_list)\n",
    "    return mean_purity\n",
    "    \n",
    "    \n",
    "            \n",
    "    \n",
    "                \n",
    "            "
   ]
  },
  {
   "cell_type": "code",
   "execution_count": 74,
   "metadata": {},
   "outputs": [],
   "source": [
    "#calculating the cost matrix\n",
    "X = pandas_to_numpy(k_modes_data_matrix)\n",
    "X = check_array(X, dtype=None)\n",
    "X, _ = encode_features(X, enc_map=kmodes._enc_map)\n",
    "costs = cost_matrices(X,kmodes._enc_cluster_centroids,matching_dissim)"
   ]
  },
  {
   "cell_type": "code",
   "execution_count": 75,
   "metadata": {},
   "outputs": [],
   "source": [
    "#computing the linear sum assignments\n",
    "def optimal_cluster_assignments_lists(optimal_cluster_assignments,stage=None):\n",
    "    optimal_cluster_assignments_names = []\n",
    "    optimal_cluster_assignments_number = []\n",
    "    for i in range(optimal_cluster_assignments[0].shape[0]):\n",
    "        name = data.loc[optimal_cluster_assignments[0][i],'generalElectionVote']\n",
    "        cluster_number = optimal_cluster_assignments[1][i]\n",
    "        name_count = 0 \n",
    "        for x in range(len(optimal_cluster_assignments_names)):\n",
    "                if name in optimal_cluster_assignments_names[x]:\n",
    "                    name_count += 1\n",
    "        if name_count != 0:\n",
    "            name = name + str(name_count+1)\n",
    "        if stage != None:\n",
    "            print(name)\n",
    "            name = name + \"_stage_\" + str(stage)\n",
    "        optimal_cluster_assignments_names.append(name)\n",
    "        optimal_cluster_assignments_number.append(cluster_number)\n",
    "    return optimal_cluster_assignments_names, optimal_cluster_assignments_number\n",
    "\n",
    "\n",
    "first_optimal_assignments = linear_sum_assignment(costs)\n",
    "first_cluster_assignments_names, first_cluster_assignments_number = optimal_cluster_assignments_lists(first_optimal_assignments)\n",
    "    \n",
    "    "
   ]
  },
  {
   "cell_type": "code",
   "execution_count": 76,
   "metadata": {},
   "outputs": [
    {
     "name": "stdout",
     "output_type": "stream",
     "text": [
      "[11, 12, 3, 8, 2, 9, 10, 0, 1, 4, 6, 5, 7]\n",
      "['Labour', 'I would/did not vote', 'Liberal Democrat', 'Other', 'Conservative', 'Conservative2', 'Conservative3', 'Conservative4', 'Conservative5', 'Labour2', 'Liberal Democrat2', 'Green Party', 'Labour3']\n"
     ]
    }
   ],
   "source": [
    "print(first_cluster_assignments_number)\n",
    "print(first_cluster_assignments_names)"
   ]
  },
  {
   "cell_type": "code",
   "execution_count": 105,
   "metadata": {},
   "outputs": [
    {
     "data": {
      "text/plain": [
       "0     3637\n",
       "9     3114\n",
       "1     3057\n",
       "5     2987\n",
       "7     2698\n",
       "2     2524\n",
       "3     2356\n",
       "8     1795\n",
       "4     1568\n",
       "11    1397\n",
       "12    1281\n",
       "10    1179\n",
       "6      774\n",
       "Name: First Assignment, dtype: int64"
      ]
     },
     "execution_count": 105,
     "metadata": {},
     "output_type": "execute_result"
    }
   ],
   "source": [
    "#creating a data frame of cluster assignments and theyre original parties\n",
    "cluster_assignments = pd.DataFrame({\"Party Vote\" : data.loc[:,'generalElectionVote'] })\n",
    "cluster_assignments['First Assignment'] = kmodes.labels_\n",
    "\n"
   ]
  },
  {
   "cell_type": "code",
   "execution_count": 14,
   "metadata": {},
   "outputs": [],
   "source": [
    "#replacing the numeric cluster assignment with the optimal name\n",
    "for i in range(len(first_cluster_assignments_number)):\n",
    "    cluster_assignments['First Assignment'] = cluster_assignments['First Assignment'].replace(int(first_cluster_assignments_number[i]),first_cluster_assignments_names[i])\n",
    "\n"
   ]
  },
  {
   "cell_type": "code",
   "execution_count": 15,
   "metadata": {},
   "outputs": [],
   "source": [
    "#performing reassignments - removing a cluster, at the moment this is done manually\n",
    "kmodes._enc_cluster_centroids = np.delete(kmodes._enc_cluster_centroids,[0,1,2,6],0) # deleting the second cluster\n",
    "\n",
    "second_assignment = kmodes.predict(k_modes_data_matrix)\n",
    "\n"
   ]
  },
  {
   "cell_type": "code",
   "execution_count": 16,
   "metadata": {},
   "outputs": [
    {
     "name": "stdout",
     "output_type": "stream",
     "text": [
      "Liberal Democrat\n",
      "Conservative\n",
      "Conservative2\n"
     ]
    }
   ],
   "source": [
    "cluster_assignments['Second Assignment'] = second_assignment\n",
    "\n",
    "second_costs = cost_matrices(X,kmodes._enc_cluster_centroids,matching_dissim)\n",
    "\n",
    "second_optimal_assignments = linear_sum_assignment(second_costs)\n",
    "\n",
    "second_cluster_assignments_names, second_cluster_assignments_number = optimal_cluster_assignments_lists(second_optimal_assignments,2)\n",
    "\n",
    "\n",
    "for i in range(len(second_cluster_assignments_number)):\n",
    "    cluster_assignments['Second Assignment'] = cluster_assignments['Second Assignment'].replace(int(second_cluster_assignments_number[i]),second_cluster_assignments_names[i])\n"
   ]
  },
  {
   "cell_type": "code",
   "execution_count": 17,
   "metadata": {},
   "outputs": [
    {
     "data": {
      "text/plain": [
       "array(['Conservative_stage_2', 'Liberal Democrat_stage_2',\n",
       "       'Conservative2_stage_2'], dtype=object)"
      ]
     },
     "execution_count": 17,
     "metadata": {},
     "output_type": "execute_result"
    }
   ],
   "source": [
    "cluster_assignments['Second Assignment'].unique()"
   ]
  },
  {
   "cell_type": "code",
   "execution_count": 18,
   "metadata": {},
   "outputs": [],
   "source": [
    "index_count = []\n",
    "\n",
    "for i in range(cluster_assignments.shape[0]):\n",
    "    index_count.append(i)\n",
    "\n",
    "cluster_assignments['index'] = index_count\n",
    "    "
   ]
  },
  {
   "cell_type": "code",
   "execution_count": 19,
   "metadata": {},
   "outputs": [
    {
     "data": {
      "text/plain": [
       "'temp-plot.html'"
      ]
     },
     "execution_count": 19,
     "metadata": {},
     "output_type": "execute_result"
    }
   ],
   "source": [
    "figure = genSankey(cluster_assignments,cat_cols=['First Assignment','Second Assignment'],value_cols='index',title='Movement of voters after drop out')\n",
    "\n",
    "plotly.offline.plot(figure, validate=False)"
   ]
  },
  {
   "cell_type": "code",
   "execution_count": null,
   "metadata": {},
   "outputs": [
    {
     "data": {
      "text/plain": [
       "7327"
      ]
     },
     "execution_count": 35,
     "metadata": {},
     "output_type": "execute_result"
    }
   ],
   "source": [
    "sum(cluster_assignments['First Assignment']=='Conservative')"
   ]
  },
  {
   "cell_type": "code",
   "execution_count": 78,
   "metadata": {},
   "outputs": [
    {
     "data": {
      "text/plain": [
       "[{'Brexit Party': 0,\n",
       "  'Conservative': 1,\n",
       "  \"Don't know\": 2,\n",
       "  'Green Party': 3,\n",
       "  'Labour': 4,\n",
       "  'Liberal Democrat': 5,\n",
       "  'No - none': 6,\n",
       "  'Other': 7,\n",
       "  'Plaid Cymru': 8,\n",
       "  'Scottish National Party (SNP)': 9,\n",
       "  'United Kingdom Independence Party (UKIP)': 10},\n",
       " {\"Don't know\": 0,\n",
       "  'It is completely necessary': 1,\n",
       "  'It is completely unnecessary': 2,\n",
       "  'It is important but not absolutely  necessary': 3,\n",
       "  'It is not necessary but it would be desirable': 4},\n",
       " {'Agree': 0,\n",
       "  'Disagree': 1,\n",
       "  \"Don't know\": 2,\n",
       "  'Neither agree nor disagree': 3,\n",
       "  'Strongly agree': 4,\n",
       "  'Strongly disagree': 5},\n",
       " {\"Don't know\": 0,\n",
       "  'Getting a little better': 1,\n",
       "  'Getting a little worse': 2,\n",
       "  'Getting a lot better': 3,\n",
       "  'Getting a lot worse': 4,\n",
       "  'Staying about the same': 5},\n",
       " {\"Don't know\": 0,\n",
       "  'Got a little better': 1,\n",
       "  'Got a little worse': 2,\n",
       "  'Got a lot better': 3,\n",
       "  'Got a lot worse': 4,\n",
       "  'Stayed the same': 5},\n",
       " {\"Don't know\": 0,\n",
       "  'Got a little better': 1,\n",
       "  'Got a little worse': 2,\n",
       "  'Got a lot better': 3,\n",
       "  'Got a lot worse': 4,\n",
       "  'Stayed the same': 5},\n",
       " {'A great deal': 0,\n",
       "  'A little': 1,\n",
       "  'A lot': 2,\n",
       "  'A moderate amount': 3,\n",
       "  'Don\\x92t know': 4,\n",
       "  'Not at all': 5},\n",
       " {\"Don't know\": 0, 'No': 1, 'Yes': 2},\n",
       " {'Climate changing but not due to human activity': 0,\n",
       "  'Climate changing due to human activity': 1,\n",
       "  'Climate not changing': 2,\n",
       "  \"Don't know\": 3},\n",
       " {\"Don't know\": 0, 'No': 1, 'Yes': 2},\n",
       " {\"Don't know\": 0,\n",
       "  'Getting a little higher': 1,\n",
       "  'Getting a little lower': 2,\n",
       "  'Getting a lot higher': 3,\n",
       "  'Getting a lot lower': 4,\n",
       "  'Staying about the same': 5},\n",
       " {'A little control': 0,\n",
       "  'A lot of control': 1,\n",
       "  'Complete control': 2,\n",
       "  \"Don't know\": 3,\n",
       "  'No control at all': 4,\n",
       "  'Some control': 5},\n",
       " {\"Don't know\": 0, 'No': 1, 'Yes': 2},\n",
       " {'About the same': 0,\n",
       "  'Better': 1,\n",
       "  \"Don't know\": 2,\n",
       "  'Much better': 3,\n",
       "  'Much worse': 4,\n",
       "  'Worse': 5},\n",
       " {\"Don't know\": 0,\n",
       "  'Getting a little better': 1,\n",
       "  'Getting a little worse': 2,\n",
       "  'Getting a lot better': 3,\n",
       "  'Getting a lot worse': 4,\n",
       "  'Staying about the same': 5},\n",
       " {'Acceptable': 0, \"Don't know\": 1, 'Unacceptable': 2},\n",
       " {'Acceptable': 0, \"Don't know\": 1, 'Unacceptable': 2},\n",
       " {'Acceptable': 0, \"Don't know\": 1, 'Unacceptable': 2},\n",
       " {'Acceptable': 0, \"Don't know\": 1, 'Unacceptable': 2},\n",
       " {\"Don't know\": 0, 'No': 1, 'Yes': 2},\n",
       " {\"Don't know\": 0,\n",
       "  'I would/will not vote': 1,\n",
       "  'Leave the EU': 2,\n",
       "  'Stay/remain in the EU': 3},\n",
       " {\"Don't know\": 0,\n",
       "  'I would not vote': 1,\n",
       "  'Remain in the EU': 2,\n",
       "  \"The government's withdrawal deal\": 3},\n",
       " {\"Don't know\": 0,\n",
       "  'I would not vote': 1,\n",
       "  'Leave without a deal': 2,\n",
       "  'Remain in the EU': 3},\n",
       " {'About the same': 0,\n",
       "  \"Don't know\": 1,\n",
       "  'Higher': 2,\n",
       "  'Lower': 3,\n",
       "  'Much higher': 4,\n",
       "  'Much lower': 5},\n",
       " {'About the same': 0,\n",
       "  \"Don't know\": 1,\n",
       "  'Higher': 2,\n",
       "  'Lower': 3,\n",
       "  'Much higher': 4,\n",
       "  'Much lower': 5},\n",
       " {'About the same': 0,\n",
       "  \"Don't know\": 1,\n",
       "  'Higher': 2,\n",
       "  'Lower': 3,\n",
       "  'Much higher': 4,\n",
       "  'Much lower': 5},\n",
       " {'About the same': 0,\n",
       "  \"Don't know\": 1,\n",
       "  'Higher': 2,\n",
       "  'Lower': 3,\n",
       "  'Much higher': 4,\n",
       "  'Much lower': 5},\n",
       " {'About the same': 0,\n",
       "  'Better': 1,\n",
       "  \"Don't know\": 2,\n",
       "  'Much better': 3,\n",
       "  'Much worse': 4,\n",
       "  'Worse': 5},\n",
       " {'Bad': 0,\n",
       "  \"Don't know\": 1,\n",
       "  'Good': 2,\n",
       "  'Neither good nor bad': 3,\n",
       "  'Very bad': 4,\n",
       "  'Very good': 5},\n",
       " {\"Don't know\": 0, 'Neither': 1, 'The leave side': 2, 'The remain side': 3},\n",
       " {\"Don't know\": 0, 'No': 1, 'Yes': 2},\n",
       " {'Agree': 0,\n",
       "  'Disagree': 1,\n",
       "  \"Don't know\": 2,\n",
       "  'Neither agree nor disagree': 3,\n",
       "  'Strongly agree': 4,\n",
       "  'Strongly disagree': 5},\n",
       " {'About right': 0,\n",
       "  \"Don't know\": 1,\n",
       "  'Much too high': 2,\n",
       "  'Much too low': 3,\n",
       "  'Too high': 4,\n",
       "  'Too low': 5}]"
      ]
     },
     "execution_count": 78,
     "metadata": {},
     "output_type": "execute_result"
    }
   ],
   "source": [
    "from sklearn.cluster import KMeans\n",
    "\n",
    "n_clusters = 6\n",
    "\n",
    "kmeans = KMeans(n_clusters, random_state=0).fit(X)\n",
    "\n",
    "predictions = kmeans.predict(X)\n",
    "\n",
    "labels = data['generalElectionVote']\n",
    "\n",
    "kmodes._enc_map\n",
    "\n",
    "\n",
    "\n"
   ]
  },
  {
   "cell_type": "code",
   "execution_count": 68,
   "metadata": {},
   "outputs": [],
   "source": [
    "def kmeans_distance(cluster,data_compare,n_clusters):\n",
    "    cost_matrix = np.zeros([data_compare.shape[0],n_clusters])\n",
    "    for i in range(data_compare.shape[0]):\n",
    "        point_costs = []\n",
    "        for c in range(n_clusters):\n",
    "            diss = np.linalg.norm(data_compare[i,:]-cluster[c,:])\n",
    "            cost_matrix[i,c]=diss\n",
    "    return cost_matrix\n",
    "\n",
    "            \n",
    "            \n",
    "    "
   ]
  },
  {
   "cell_type": "code",
   "execution_count": 71,
   "metadata": {},
   "outputs": [],
   "source": [
    "kmeans_cost = kmeans_distance(kmeans.cluster_centers_,X,n_clusters)\n"
   ]
  },
  {
   "cell_type": "code",
   "execution_count": 72,
   "metadata": {},
   "outputs": [],
   "source": [
    "k_means_assignments = linear_sum_assignment(kmeans_cost)\n",
    "k_means_assignments_names, k_means_assignments_number = optimal_cluster_assignments_lists(k_means_assignments)"
   ]
  },
  {
   "cell_type": "code",
   "execution_count": 102,
   "metadata": {},
   "outputs": [],
   "source": [
    "kmeans.cluster_centers_ = np.delete(kmeans.cluster_centers_,0,0)\n"
   ]
  },
  {
   "cell_type": "code",
   "execution_count": 103,
   "metadata": {},
   "outputs": [
    {
     "data": {
      "text/plain": [
       "(5, 32)"
      ]
     },
     "execution_count": 103,
     "metadata": {},
     "output_type": "execute_result"
    }
   ],
   "source": [
    "kmeans.cluster_centers_.shape\n",
    "\n"
   ]
  }
 ],
 "metadata": {
  "interpreter": {
   "hash": "62c95e99237af2378f1ef5afb241d0a0f8e6d9f52b046f51f6de2dd208ad2ab4"
  },
  "kernelspec": {
   "display_name": "Python 3.8.8 64-bit ('base': conda)",
   "language": "python",
   "name": "python3"
  },
  "language_info": {
   "codemirror_mode": {
    "name": "ipython",
    "version": 3
   },
   "file_extension": ".py",
   "mimetype": "text/x-python",
   "name": "python",
   "nbconvert_exporter": "python",
   "pygments_lexer": "ipython3",
   "version": "3.8.8"
  },
  "orig_nbformat": 4
 },
 "nbformat": 4,
 "nbformat_minor": 2
}
