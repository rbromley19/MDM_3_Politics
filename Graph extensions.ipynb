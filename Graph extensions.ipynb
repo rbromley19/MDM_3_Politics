{
 "cells": [
  {
   "cell_type": "code",
   "execution_count": 25,
   "metadata": {},
   "outputs": [],
   "source": [
    "import pandas as pd\n",
    "import numpy as np\n",
    "scaleddf=pd.read_csv('purity_km_optimal')\n",
    "F1df = pd.read_csv('F1_km_optimal')"
   ]
  },
  {
   "cell_type": "code",
   "execution_count": 45,
   "metadata": {},
   "outputs": [],
   "source": [
    "scaleddf=pd.read_csv('purity_knn')"
   ]
  },
  {
   "cell_type": "code",
   "execution_count": 47,
   "metadata": {},
   "outputs": [
    {
     "name": "stdout",
     "output_type": "stream",
     "text": [
      "         Unnamed: 0         0         1         2         3         4  \\\n",
      "0               PCA  0.431393  0.443689  0.455330  0.466972  0.462786   \n",
      "1  No Dim Reduction  0.543492  0.566906  0.590582  0.599869  0.595683   \n",
      "2              TSNE  0.369392  0.376848  0.396076  0.409941  0.417789   \n",
      "3         LDA to 5D  0.772662  0.800523  0.808895  0.818705  0.823022   \n",
      "4               NCA  0.721517  0.762721  0.777240  0.782080  0.789536   \n",
      "5               QDA  0.381557  0.383257  0.403401  0.417135  0.420667   \n",
      "6      LDA Then QDA  0.765337  0.798823  0.803401  0.814912  0.817135   \n",
      "7               LDA  0.724133  0.762982  0.772923  0.785481  0.787574   \n",
      "\n",
      "          5         6         7         8  ...        53        54        55  \\\n",
      "0  0.465533  0.465141  0.468149  0.462525  ...  0.430477  0.429823  0.431655   \n",
      "1  0.602616  0.599608  0.602747  0.605494  ...  0.527404  0.526488  0.527796   \n",
      "2  0.417659  0.423806  0.426422  0.431916  ...  0.426946  0.429954  0.432047   \n",
      "3  0.823414  0.826030  0.826161  0.826553  ...  0.832963  0.833224  0.832309   \n",
      "4  0.788489  0.790059  0.790713  0.793721  ...  0.805232  0.805363  0.805625   \n",
      "5  0.421714  0.425899  0.430739  0.437672  ...  0.439634  0.437541  0.436233   \n",
      "6  0.821190  0.823152  0.823806  0.824984  ...  0.823676  0.823152  0.823022   \n",
      "7  0.793983  0.794768  0.795945  0.797384  ...  0.807979  0.808633  0.809287   \n",
      "\n",
      "         56        57        58        59        60        61        62  \n",
      "0  0.432832  0.432963  0.431131  0.432309  0.430739  0.432963  0.432178  \n",
      "1  0.527404  0.526226  0.526226  0.525441  0.525311  0.525049  0.522825  \n",
      "2  0.429431  0.429693  0.430347  0.432047  0.429823  0.426553  0.430085  \n",
      "3  0.832309  0.832178  0.832047  0.831262  0.830608  0.830477  0.830608  \n",
      "4  0.805494  0.804971  0.805232  0.805101  0.805625  0.806148  0.805755  \n",
      "5  0.437148  0.435579  0.438326  0.437148  0.440419  0.439634  0.437672  \n",
      "6  0.824853  0.824591  0.824722  0.824722  0.825114  0.824722  0.824984  \n",
      "7  0.809941  0.808764  0.808764  0.809026  0.810595  0.810072  0.809941  \n",
      "\n",
      "[8 rows x 64 columns]\n"
     ]
    }
   ],
   "source": [
    "scaleddf = scaleddf.drop(\"Unnamed: 0\",axis=1)\n",
    "#F1df = F1df.drop(\"Unnamed: 0\",axis=1)\n",
    "print(scaleddf)"
   ]
  },
  {
   "cell_type": "code",
   "execution_count": 54,
   "metadata": {},
   "outputs": [
    {
     "ename": "TypeError",
     "evalue": "reduction operation 'argmax' not allowed for this dtype",
     "output_type": "error",
     "traceback": [
      "\u001b[1;31m---------------------------------------------------------------------------\u001b[0m",
      "\u001b[1;31mTypeError\u001b[0m                                 Traceback (most recent call last)",
      "\u001b[1;32m<ipython-input-54-844b0b0d4dd9>\u001b[0m in \u001b[0;36m<module>\u001b[1;34m\u001b[0m\n\u001b[0;32m      2\u001b[0m \u001b[1;33m\u001b[0m\u001b[0m\n\u001b[0;32m      3\u001b[0m \u001b[1;33m\u001b[0m\u001b[0m\n\u001b[1;32m----> 4\u001b[1;33m \u001b[0mMaximumsPurityid\u001b[0m \u001b[1;33m=\u001b[0m \u001b[0mscaleddf\u001b[0m\u001b[1;33m.\u001b[0m\u001b[0midxmax\u001b[0m\u001b[1;33m(\u001b[0m\u001b[0maxis\u001b[0m\u001b[1;33m=\u001b[0m\u001b[1;34m\"columns\"\u001b[0m\u001b[1;33m)\u001b[0m\u001b[1;33m\u001b[0m\u001b[1;33m\u001b[0m\u001b[0m\n\u001b[0m\u001b[0;32m      5\u001b[0m \u001b[1;31m#MaxF1 = F1df.max(axis=1)\u001b[0m\u001b[1;33m\u001b[0m\u001b[1;33m\u001b[0m\u001b[1;33m\u001b[0m\u001b[0m\n\u001b[0;32m      6\u001b[0m \u001b[1;31m#MaxF1id = F1df.idxmax(axis=\"columns\")\u001b[0m\u001b[1;33m\u001b[0m\u001b[1;33m\u001b[0m\u001b[1;33m\u001b[0m\u001b[0m\n",
      "\u001b[1;32m~\\anaconda3\\envs\\intro_to_ai\\lib\\site-packages\\pandas\\core\\frame.py\u001b[0m in \u001b[0;36midxmax\u001b[1;34m(self, axis, skipna)\u001b[0m\n\u001b[0;32m   8870\u001b[0m         \"\"\"\n\u001b[0;32m   8871\u001b[0m         \u001b[0maxis\u001b[0m \u001b[1;33m=\u001b[0m \u001b[0mself\u001b[0m\u001b[1;33m.\u001b[0m\u001b[0m_get_axis_number\u001b[0m\u001b[1;33m(\u001b[0m\u001b[0maxis\u001b[0m\u001b[1;33m)\u001b[0m\u001b[1;33m\u001b[0m\u001b[1;33m\u001b[0m\u001b[0m\n\u001b[1;32m-> 8872\u001b[1;33m         \u001b[0mindices\u001b[0m \u001b[1;33m=\u001b[0m \u001b[0mnanops\u001b[0m\u001b[1;33m.\u001b[0m\u001b[0mnanargmax\u001b[0m\u001b[1;33m(\u001b[0m\u001b[0mself\u001b[0m\u001b[1;33m.\u001b[0m\u001b[0mvalues\u001b[0m\u001b[1;33m,\u001b[0m \u001b[0maxis\u001b[0m\u001b[1;33m=\u001b[0m\u001b[0maxis\u001b[0m\u001b[1;33m,\u001b[0m \u001b[0mskipna\u001b[0m\u001b[1;33m=\u001b[0m\u001b[0mskipna\u001b[0m\u001b[1;33m)\u001b[0m\u001b[1;33m\u001b[0m\u001b[1;33m\u001b[0m\u001b[0m\n\u001b[0m\u001b[0;32m   8873\u001b[0m \u001b[1;33m\u001b[0m\u001b[0m\n\u001b[0;32m   8874\u001b[0m         \u001b[1;31m# indices will always be np.ndarray since axis is not None and\u001b[0m\u001b[1;33m\u001b[0m\u001b[1;33m\u001b[0m\u001b[1;33m\u001b[0m\u001b[0m\n",
      "\u001b[1;32m~\\anaconda3\\envs\\intro_to_ai\\lib\\site-packages\\pandas\\core\\nanops.py\u001b[0m in \u001b[0;36m_f\u001b[1;34m(*args, **kwargs)\u001b[0m\n\u001b[0;32m     65\u001b[0m                 \u001b[0mf_name\u001b[0m \u001b[1;33m=\u001b[0m \u001b[0mf\u001b[0m\u001b[1;33m.\u001b[0m\u001b[0m__name__\u001b[0m\u001b[1;33m.\u001b[0m\u001b[0mreplace\u001b[0m\u001b[1;33m(\u001b[0m\u001b[1;34m\"nan\"\u001b[0m\u001b[1;33m,\u001b[0m \u001b[1;34m\"\"\u001b[0m\u001b[1;33m)\u001b[0m\u001b[1;33m\u001b[0m\u001b[1;33m\u001b[0m\u001b[0m\n\u001b[0;32m     66\u001b[0m                 raise TypeError(\n\u001b[1;32m---> 67\u001b[1;33m                     \u001b[1;34mf\"reduction operation '{f_name}' not allowed for this dtype\"\u001b[0m\u001b[1;33m\u001b[0m\u001b[1;33m\u001b[0m\u001b[0m\n\u001b[0m\u001b[0;32m     68\u001b[0m                 )\n\u001b[0;32m     69\u001b[0m             \u001b[1;32mtry\u001b[0m\u001b[1;33m:\u001b[0m\u001b[1;33m\u001b[0m\u001b[1;33m\u001b[0m\u001b[0m\n",
      "\u001b[1;31mTypeError\u001b[0m: reduction operation 'argmax' not allowed for this dtype"
     ]
    }
   ],
   "source": [
    "\n",
    "\n",
    "\n",
    "MaximumsPurity = scaleddf.max(axis=1)\n",
    "\n",
    "\n",
    "MaximumsPurityid = scaleddf.idxmax(axis=\"columns\")\n",
    "#MaxF1 = F1df.max(axis=1)\n",
    "#MaxF1id = F1df.idxmax(axis=\"columns\")\n",
    "\n",
    "\n",
    "\n",
    "\n",
    "   \n",
    "MaximumsPurityid"
   ]
  },
  {
   "cell_type": "code",
   "execution_count": 24,
   "metadata": {},
   "outputs": [
    {
     "name": "stdout",
     "output_type": "stream",
     "text": [
      "0    0.427116\n",
      "1    0.427269\n",
      "2    0.426371\n",
      "3    0.728534\n",
      "4    0.747048\n",
      "5    0.582974\n",
      "6    0.777630\n",
      "7    0.746303\n",
      "dtype: float64\n",
      "1     7\n",
      "2     9\n",
      "3     4\n",
      "4     8\n",
      "5    11\n",
      "6     9\n",
      "7     8\n",
      "dtype: object\n"
     ]
    }
   ],
   "source": [
    "print(MaximumsPurity)\n",
    "print(MaximumsPurityid)"
   ]
  },
  {
   "cell_type": "code",
   "execution_count": 32,
   "metadata": {},
   "outputs": [
    {
     "name": "stdout",
     "output_type": "stream",
     "text": [
      "0    0.390676\n",
      "1    0.396503\n",
      "2    0.387179\n",
      "3    0.812346\n",
      "4    0.787740\n",
      "5    0.427239\n",
      "6    0.747248\n",
      "7    0.788042\n",
      "dtype: float64\n",
      "0    4\n",
      "1    7\n",
      "2    7\n",
      "3    4\n",
      "4    1\n",
      "5    7\n",
      "6    0\n",
      "7    1\n",
      "dtype: object\n"
     ]
    }
   ],
   "source": [
    "print(MaxF1)\n",
    "print(MaxF1id)"
   ]
  },
  {
   "cell_type": "code",
   "execution_count": 26,
   "metadata": {},
   "outputs": [
    {
     "name": "stdout",
     "output_type": "stream",
     "text": [
      "0                 PCA\n",
      "1    No Dim Reduction\n",
      "2                TSNE\n",
      "3           LDA to 5D\n",
      "4                 NCA\n",
      "5                 QDA\n",
      "6        LDA Then QDA\n",
      "7                 LDA\n",
      "Name: Unnamed: 0, dtype: object\n"
     ]
    }
   ],
   "source": [
    "print(scaleddf['Unnamed: 0'])"
   ]
  },
  {
   "cell_type": "code",
   "execution_count": 52,
   "metadata": {},
   "outputs": [
    {
     "name": "stdout",
     "output_type": "stream",
     "text": [
      "0          Knn on Reduced Question Set Enum, With: PCA\n",
      "1    Knn on Reduced Question Set Enum, With: No Dim...\n",
      "2         Knn on Reduced Question Set Enum, With: TSNE\n",
      "3    Knn on Reduced Question Set Enum, With: LDA to 5D\n",
      "4          Knn on Reduced Question Set Enum, With: NCA\n",
      "5          Knn on Reduced Question Set Enum, With: QDA\n",
      "6    Knn on Reduced Question Set Enum, With: LDA Th...\n",
      "7          Knn on Reduced Question Set Enum, With: LDA\n",
      "Name: Unnamed: 0, dtype: object\n",
      "<class 'pandas.core.series.Series'>\n",
      "{0: 'Knn on Reduced Question Set Enum, With: PCA', 1: 'Knn on Reduced Question Set Enum, With: No Dim Reduction', 2: 'Knn on Reduced Question Set Enum, With: TSNE', 3: 'Knn on Reduced Question Set Enum, With: LDA to 5D', 4: 'Knn on Reduced Question Set Enum, With: NCA', 5: 'Knn on Reduced Question Set Enum, With: QDA', 6: 'Knn on Reduced Question Set Enum, With: LDA Then QDA', 7: 'Knn on Reduced Question Set Enum, With: LDA'}\n"
     ]
    }
   ],
   "source": [
    "headings = scaleddf['Unnamed: 0'].copy()\n",
    "headingsdict = dict()\n",
    "for i in range(len(headings)):\n",
    "    headings[i] =\"Knn on Reduced Question Set Enum, With: \"+headings[i]\n",
    "    headingsdict[i]=headings[i]\n",
    "print(headings)\n",
    "\n",
    "df = pd.DataFrame(columns=list(range(len(headings))), index=['Purity'])\n",
    "print(type(MaximumsPurity))\n",
    "df.loc['Purity'] = (MaximumsPurity)\n",
    "#df.loc['F1'] = (MaxF1)\n",
    "print(headingsdict)\n",
    "df=df.rename(columns=headingsdict)\n",
    "df.to_csv(\"Max_Purities_cnn.csv\")"
   ]
  }
 ],
 "metadata": {
  "interpreter": {
   "hash": "4aa8c007eebb8fdf720dd5650b8e5c40ef7fb908d5e7fdd4b2f30152eb9455cb"
  },
  "kernelspec": {
   "display_name": "Python 3.6.13 ('intro_to_ai')",
   "language": "python",
   "name": "python3"
  },
  "language_info": {
   "codemirror_mode": {
    "name": "ipython",
    "version": 3
   },
   "file_extension": ".py",
   "mimetype": "text/x-python",
   "name": "python",
   "nbconvert_exporter": "python",
   "pygments_lexer": "ipython3",
   "version": "3.6.13"
  },
  "orig_nbformat": 4
 },
 "nbformat": 4,
 "nbformat_minor": 2
}
